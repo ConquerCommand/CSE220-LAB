{
  "nbformat": 4,
  "nbformat_minor": 0,
  "metadata": {
    "colab": {
      "provenance": []
    },
    "kernelspec": {
      "name": "python3",
      "display_name": "Python 3"
    },
    "language_info": {
      "name": "python"
    }
  },
  "cells": [
    {
      "cell_type": "code",
      "execution_count": null,
      "metadata": {
        "id": "pCZWSdDkt0ex"
      },
      "outputs": [],
      "source": [
        "class BTNode:\n",
        "  def __init__(self, elem):\n",
        "    self.elem = elem\n",
        "    self.right = None\n",
        "    self.left = None"
      ]
    },
    {
      "cell_type": "code",
      "source": [
        "def inorder(root):\n",
        "  if root == None:\n",
        "    return\n",
        "\n",
        "  inorder(root.left)\n",
        "  print(root.elem, end = ' ')\n",
        "  inorder(root.right)"
      ],
      "metadata": {
        "id": "FCg3kO8TuSLV"
      },
      "execution_count": null,
      "outputs": []
    },
    {
      "cell_type": "code",
      "source": [
        "def tree_construction(arr, i = 1):\n",
        "  if i>=len(arr) or arr[i] == None:\n",
        "    return None\n",
        "  p = BTNode(arr[i])\n",
        "  p.left = tree_construction(arr, 2*i)\n",
        "  p.right = tree_construction(arr, 2*i+1)\n",
        "  return p\n",
        "\n",
        "\n",
        "root2 = tree_construction([None, 'A', 'B', 'C', 'D', 'E', 'F', 'G', 'H', None, None, None, 'I', 'J', None, 'k'])\n",
        "inorder(root2)"
      ],
      "metadata": {
        "colab": {
          "base_uri": "https://localhost:8080/"
        },
        "id": "aetv0OgBuT50",
        "outputId": "402eb334-083e-4112-b33d-0fbc35411549"
      },
      "execution_count": null,
      "outputs": [
        {
          "output_type": "stream",
          "name": "stdout",
          "text": [
            "H D B E A I F J C G k "
          ]
        }
      ]
    },
    {
      "cell_type": "code",
      "source": [
        "def convert_mirror(root):\n",
        "  #To Do\n",
        "  if root==None:\n",
        "    return None\n",
        "  root.left,root.right=root.right,root.left\n",
        "  convert_mirror(root.right)\n",
        "  convert_mirror(root.left)\n",
        "  return root\n",
        "\n",
        "#DRIVER CODE\n",
        "root = BTNode(10)\n",
        "n1 = BTNode(20)\n",
        "n2 = BTNode(30)\n",
        "n3 = BTNode(40)\n",
        "n4 = BTNode(60)\n",
        "\n",
        "root.left = n1\n",
        "root.right = n2\n",
        "\n",
        "n1.left = n3\n",
        "n1.right = n4\n",
        "\n",
        "print('Given Tree Inorder Traversal: ', end = ' ')\n",
        "inorder(root) #Given Tree Inorder Traversal:  40 20 60 10 30\n",
        "print()\n",
        "\n",
        "root2 = convert_mirror(root)\n",
        "print('Mirrored Tree Inorder Traversal: ', end = ' ')\n",
        "inorder(root2) #Mirrored Tree Inorder Traversal:  30 10 60 20 40"
      ],
      "metadata": {
        "id": "So9dqMAluW2O",
        "colab": {
          "base_uri": "https://localhost:8080/"
        },
        "outputId": "f37aac83-1180-4682-ee9a-c9ef1d804670"
      },
      "execution_count": null,
      "outputs": [
        {
          "output_type": "stream",
          "name": "stdout",
          "text": [
            "Given Tree Inorder Traversal:  40 20 60 10 30 \n",
            "Mirrored Tree Inorder Traversal:  30 10 60 20 40 "
          ]
        }
      ]
    },
    {
      "cell_type": "code",
      "source": [
        "def smallest_level(root, level = {}, i = 0):\n",
        "  #To Do\n",
        "  if root==None:\n",
        "    return\n",
        "  elif i not in level:\n",
        "    level[i]=root.elem\n",
        "  elif level[i]>root.elem:\n",
        "    level[i]=root.elem\n",
        "  smallest_level(root.right,level,i+1)\n",
        "  smallest_level(root.left,level,i+1)\n",
        "  return level\n",
        "\n",
        "#DRIVER CODE\n",
        "root = tree_construction([None, 4,9,2,3,-5,None,7])\n",
        "print('Given Tree Inorder Traversal: ', end = ' ')\n",
        "inorder(root) #Given Tree Inorder Traversal:  3 9 5 4 2 7\n",
        "print()\n",
        "print('Level Wise Smallest Value: ', end = ' ')\n",
        "print(smallest_level(root)) #Level Wise Smallest Value:  {0: 4, 1: 2, 2: -5}"
      ],
      "metadata": {
        "id": "r6KrOcnEuY0f",
        "colab": {
          "base_uri": "https://localhost:8080/"
        },
        "outputId": "5fa7a17e-7e7f-43d3-ac1a-415de5b443bd"
      },
      "execution_count": null,
      "outputs": [
        {
          "output_type": "stream",
          "name": "stdout",
          "text": [
            "Given Tree Inorder Traversal:  3 9 -5 4 2 7 \n",
            "Level Wise Smallest Value:  {0: 4, 1: 2, 2: -5}\n"
          ]
        }
      ]
    },
    {
      "cell_type": "code",
      "source": [
        "def sumTree(root):\n",
        "  # To DO\n",
        "  tl= totallevel(root)\n",
        "  if root==None:\n",
        "    return 0\n",
        "  m=tl-findlevel(root)\n",
        "  if m==0:\n",
        "    return root.elem+sumTree(root.left)+sumTree(root.right)\n",
        "  return root.elem+sumTree(root.left)%m+sumTree(root.right)%m\n",
        "  #you can declare as many helper function with extra parameters as you need .\n",
        "  #You can not modify the parameters of sumTree or modify any part of the given code.\n",
        "def findlevel(root,i=0):\n",
        "  if root==None:\n",
        "    return 0\n",
        "  elif findlevel(root.left)>findlevel(root.right):\n",
        "    return 1+findlevel(root.left)\n",
        "  else:\n",
        "    return 1+findlevel(root.right)\n",
        "def totallevel(root):\n",
        "  if root==None:\n",
        "    return 0\n",
        "  elif totallevel(root.left)>totallevel(root.right):\n",
        "    return 1+totallevel(root.left)\n",
        "  else:\n",
        "    return 1+totallevel(root.right)"
      ],
      "metadata": {
        "id": "IA91nIQPuctt"
      },
      "execution_count": null,
      "outputs": []
    },
    {
      "cell_type": "code",
      "source": [
        "def sumTree(root):\n",
        "  # To DO\n",
        "  return realsumtree(root,0)\n",
        "  #you can declare as many helper function with extra parameters as you need .\n",
        "  #You can not modify the parameters of sumTree or modify any part of the given code.\n",
        "def realsumtree(root,i):\n",
        "  if root==None:\n",
        "    return 0\n",
        "  if i==0:\n",
        "    return root.elem + realsumtree(root.left,i+1)+realsumtree(root.right,i+1)\n",
        "  return root.elem%i + realsumtree(root.left,i+1)+realsumtree(root.right,i+1)"
      ],
      "metadata": {
        "id": "gx97UbjQK1Vm"
      },
      "execution_count": null,
      "outputs": []
    },
    {
      "cell_type": "code",
      "source": [
        "#Driver Code\n",
        "#Input 1\n",
        "root1 = BTNode(9)\n",
        "node2 = BTNode(4)\n",
        "node3 = BTNode(5)\n",
        "node4 = BTNode(18)\n",
        "node5 = BTNode(14)\n",
        "node6 = BTNode(3)\n",
        "node7 = BTNode(54)\n",
        "node8 = BTNode(12)\n",
        "node9 = BTNode(8)\n",
        "node10 = BTNode(91)\n",
        "node11 = BTNode(56)\n",
        "\n",
        "root1.left = node2\n",
        "root1.right = node3\n",
        "\n",
        "node2.left = node4\n",
        "\n",
        "node3.left = node5\n",
        "node3.right = node6\n",
        "\n",
        "node4.left = node7\n",
        "node4.right = node8\n",
        "\n",
        "node5.left = node9\n",
        "\n",
        "node8.left = node10\n",
        "node8.right = node11\n",
        "\n",
        "print(sumTree(root1)) #This should print 15"
      ],
      "metadata": {
        "id": "WtmVo0LoufJ0",
        "colab": {
          "base_uri": "https://localhost:8080/"
        },
        "outputId": "9c991683-d4f6-4239-9cd3-5046d50d4e20"
      },
      "execution_count": null,
      "outputs": [
        {
          "output_type": "stream",
          "name": "stdout",
          "text": [
            "15\n"
          ]
        }
      ]
    },
    {
      "cell_type": "code",
      "source": [
        "def swap_child(root, level, M):\n",
        "  #To Do\n",
        "  if root==None or M<1:\n",
        "    return None\n",
        "  root.left,root.right=root.right,root.left\n",
        "  swap_child(root.left,0,M-1)\n",
        "  swap_child(root.right,0,M-1)\n",
        "  return root\n",
        "\n",
        "\n",
        "#Driver Code\n",
        "root=BTNode('A')\n",
        "#Write other nodes by yourself from the given tree of Doc File\n",
        "nb=BTNode('B')\n",
        "nc=BTNode('C')\n",
        "nd=BTNode('D')\n",
        "ne=BTNode('E')\n",
        "nf=BTNode('F')\n",
        "ng=BTNode('G')\n",
        "nh=BTNode('H')\n",
        "ni=BTNode('I')\n",
        "nj=BTNode('J')\n",
        "root.left=nb\n",
        "root.right=nc\n",
        "nb.left=nd\n",
        "nb.right=ne\n",
        "nc.right=nf\n",
        "nf.left=nj\n",
        "nd.left=ng\n",
        "nd.right=nh\n",
        "ne.left=ni\n",
        "\n",
        "print('Given Tree Inorder Traversal: ', end = ' ')\n",
        "inorder(root)   #Given Tree Inorder Traversal: G D H B I E A C J F\n",
        "print()\n",
        "\n",
        "root2 = swap_child(root, 0, 2)\n",
        "print('Swapped Tree Inorder Traversal: ', end = ' ')\n",
        "inorder(root2)  #Swapped Tree Inorder Traversal: J F C A I E B G D H"
      ],
      "metadata": {
        "id": "lCryFNB2uhI1",
        "colab": {
          "base_uri": "https://localhost:8080/"
        },
        "outputId": "ff00afb0-9c35-440e-879b-99cb540b38a7"
      },
      "execution_count": null,
      "outputs": [
        {
          "output_type": "stream",
          "name": "stdout",
          "text": [
            "Given Tree Inorder Traversal:  G D H B I E A C J F \n",
            "Swapped Tree Inorder Traversal:  J F C A I E B G D H "
          ]
        }
      ]
    },
    {
      "cell_type": "code",
      "source": [
        "def subtract_summation(root):\n",
        "  #To Do\n",
        "  if root==None:\n",
        "    return 0\n",
        "  ls=subsum(root.left)\n",
        "  rs=subsum(root.right)\n",
        "  return ls-rs\n",
        "def subsum(root):\n",
        "  if root==None:\n",
        "    return 0\n",
        "  return root.elem+subsum(root.left)+subsum(root.right)\n",
        "\n",
        "#Driver Code\n",
        "root=BTNode(71)\n",
        "#Write other nodes by yourself from the given tree of Doc File\n",
        "n27=BTNode(27)\n",
        "n80=BTNode(80)\n",
        "n87=BTNode(87)\n",
        "n56=BTNode(56)\n",
        "n75=BTNode(75)\n",
        "n27=BTNode(27)\n",
        "n62=BTNode(62)\n",
        "n41=BTNode(41)\n",
        "n3=BTNode(3)\n",
        "n19=BTNode(19)\n",
        "n89=BTNode(89)\n",
        "root.left=n27\n",
        "root.right=n62\n",
        "n27.left=n80\n",
        "n27.right=n75\n",
        "n80.left=n87\n",
        "n80.right=n56\n",
        "n62.left=n41\n",
        "n62.right=n3\n",
        "n3.left=n19\n",
        "n3.right=n89\n",
        "\n",
        "print(subtract_summation(root)) #This should print 111"
      ],
      "metadata": {
        "id": "Qng3NfLwujYN",
        "colab": {
          "base_uri": "https://localhost:8080/"
        },
        "outputId": "9d2b6775-1851-4317-d13e-9c45f43b71e2"
      },
      "execution_count": null,
      "outputs": [
        {
          "output_type": "stream",
          "name": "stdout",
          "text": [
            "111\n"
          ]
        }
      ]
    },
    {
      "cell_type": "code",
      "source": [
        "def level_sum(root):\n",
        "  #To Do\n",
        "  return dls(root)\n",
        "def dls(root,i=0):\n",
        "  if root==None:\n",
        "    return 0\n",
        "  elif i%2==0:\n",
        "    return -root.elem+dls(root.left,i+1)+dls(root.right,i+1)\n",
        "  elif i%2!=0:\n",
        "    return root.elem+dls(root.left,i+1)+dls(root.right,i+1)\n",
        "\n",
        "#DRIVER CODE\n",
        "root = BTNode(1)\n",
        "n2 = BTNode(2)\n",
        "n3 = BTNode(3)\n",
        "n4 = BTNode(4)\n",
        "n5 = BTNode(5)\n",
        "n6 = BTNode(6)\n",
        "n7 = BTNode(7)\n",
        "n8 = BTNode(8)\n",
        "root.left = n2\n",
        "root.right = n3\n",
        "\n",
        "n2.left = n4\n",
        "n3.left = n5\n",
        "n3.right = n6\n",
        "\n",
        "n5.left = n7\n",
        "n5.right = n8\n",
        "\n",
        "\n",
        "print(level_sum(root)) #This should print 4"
      ],
      "metadata": {
        "id": "Pjq9kedHulO8",
        "colab": {
          "base_uri": "https://localhost:8080/"
        },
        "outputId": "98017310-6908-4546-c2bf-ecce921976d7"
      },
      "execution_count": null,
      "outputs": [
        {
          "output_type": "stream",
          "name": "stdout",
          "text": [
            "4\n"
          ]
        }
      ]
    }
  ]
}