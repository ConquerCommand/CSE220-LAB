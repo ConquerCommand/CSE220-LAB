{
  "nbformat": 4,
  "nbformat_minor": 0,
  "metadata": {
    "colab": {
      "provenance": []
    },
    "kernelspec": {
      "name": "python3",
      "display_name": "Python 3"
    },
    "language_info": {
      "name": "python"
    }
  },
  "cells": [
    {
      "cell_type": "code",
      "execution_count": null,
      "metadata": {
        "id": "7hywA7-uwpUM"
      },
      "outputs": [],
      "source": [
        "class BTNode:\n",
        "  def __init__(self, elem):\n",
        "    self.elem = elem\n",
        "    self.right = None\n",
        "    self.left = None"
      ]
    },
    {
      "cell_type": "code",
      "source": [
        "def inorder(root):\n",
        "  if root == None:\n",
        "    return\n",
        "\n",
        "  inorder(root.left)\n",
        "  print(root.elem, end = ' ')\n",
        "  inorder(root.right)"
      ],
      "metadata": {
        "id": "g6exa4vqw2QQ"
      },
      "execution_count": null,
      "outputs": []
    },
    {
      "cell_type": "code",
      "source": [
        "def tree_construction(arr, i = 1):\n",
        "  if i>=len(arr) or arr[i] == None:\n",
        "    return None\n",
        "  p = BTNode(arr[i])\n",
        "  p.left = tree_construction(arr, 2*i)\n",
        "  p.right = tree_construction(arr, 2*i+1)\n",
        "  return p\n",
        "\n",
        "\n",
        "root2 = tree_construction([None, 'A', 'B', 'C', 'D', 'E', 'F', 'G', 'H', None, None, None, 'I', 'J', None, 'k'])\n",
        "inorder(root2)"
      ],
      "metadata": {
        "colab": {
          "base_uri": "https://localhost:8080/"
        },
        "id": "mxjpwrIQw9CH",
        "outputId": "6433f07f-829b-413d-a517-66886b8da525"
      },
      "execution_count": null,
      "outputs": [
        {
          "output_type": "stream",
          "name": "stdout",
          "text": [
            "H D B E A I F J C G k "
          ]
        }
      ]
    },
    {
      "cell_type": "code",
      "source": [
        "def LCA(root, x, y):\n",
        "  #To Do\n",
        "  if root==None:\n",
        "    return None\n",
        "  if x<root.elem>y:\n",
        "    return LCA(root.left, x, y)\n",
        "  if x>root.elem<y:\n",
        "    return LCA(root.right, x, y)\n",
        "  return root.elem\n",
        "\n",
        "root=BTNode(15)\n",
        "n10=BTNode(10)\n",
        "n25=BTNode(25)\n",
        "n8=BTNode(8)\n",
        "n12=BTNode(12)\n",
        "n20=BTNode(20)\n",
        "n30=BTNode(30)\n",
        "n6=BTNode(6)\n",
        "n9=BTNode(9)\n",
        "n18=BTNode(18)\n",
        "n22=BTNode(22)\n",
        "root.left=(n10)\n",
        "root.right=(n25)\n",
        "n10.left=(n8)\n",
        "n10.right=(n12)\n",
        "n25.left=(n20)\n",
        "n25.right=(n30)\n",
        "n8.left=(n6)\n",
        "n8.right=(n9)\n",
        "n20.left=(n18)\n",
        "n20.right=(n22)\n",
        "LCA(root,6,12)\n",
        "LCA(root,20,6)\n",
        "LCA(root,18,22)\n",
        "LCA(root,20,25)\n",
        "LCA(root,10,12)\n",
        "#DRIVER CODE\n",
        "#Write by yourself from the given tree (Create parent node and its corresponding left and right children nodes)\n",
        "#check all the sample inputs given\n",
        "#You can take help by seeing the driver code of Lab-6"
      ],
      "metadata": {
        "id": "pxTEWlbHxBnm",
        "colab": {
          "base_uri": "https://localhost:8080/"
        },
        "outputId": "1087b57b-a966-4053-dbca-f3b850591e12"
      },
      "execution_count": null,
      "outputs": [
        {
          "output_type": "execute_result",
          "data": {
            "text/plain": [
              "10"
            ]
          },
          "metadata": {},
          "execution_count": 4
        }
      ]
    },
    {
      "cell_type": "code",
      "source": [
        "def find_path(root, key):\n",
        "  #To Do\n",
        "  if root==None:\n",
        "    return 'No Path Found'\n",
        "  if root.elem<key:\n",
        "    l=find_path(root.right,key)\n",
        "    if l!='No Path Found':\n",
        "      return [root.elem]+l\n",
        "  if root.elem>key:\n",
        "    r=find_path(root.left,key)\n",
        "    if r!='No Path Found':\n",
        "      return [root.elem]+r\n",
        "  if root.elem==key:\n",
        "    return [root.elem]\n",
        "  return 'No Path Found'\n",
        "root=BTNode(30)\n",
        "n10=BTNode(10)\n",
        "n40=BTNode(40)\n",
        "n3=BTNode(3)\n",
        "n15=BTNode(15)\n",
        "n35=BTNode(35)\n",
        "n55=BTNode(55)\n",
        "root.left=n10\n",
        "root.right=n40\n",
        "n10.left=n3\n",
        "n10.right=n15\n",
        "n40.left=n35\n",
        "n40.right=n55\n",
        "#DRIVER CODE\n",
        "#Write by yourself from the given tree\n",
        "print(find_path(root,15))\n",
        "#This should print [30,10,15]\n",
        "\n",
        "print(find_path(root,50))\n",
        "#This should print No Path Found"
      ],
      "metadata": {
        "id": "uG9Hw06jxDoW",
        "colab": {
          "base_uri": "https://localhost:8080/"
        },
        "outputId": "9c1fbe15-e3ee-45e2-8818-f099797910de"
      },
      "execution_count": null,
      "outputs": [
        {
          "output_type": "stream",
          "name": "stdout",
          "text": [
            "[30, 10, 15]\n",
            "No Path Found\n"
          ]
        }
      ]
    },
    {
      "cell_type": "code",
      "source": [
        "def sum_of_leaves(root, sum):\n",
        "  #To Do\n",
        "  if root==None:\n",
        "    return 0\n",
        "  if root.left==root.right==None:\n",
        "    return root.elem\n",
        "  else:\n",
        "    return sum_of_leaves(root.left, sum) + sum_of_leaves(root.right, sum)\n",
        "\n",
        "root=BTNode(30)\n",
        "n10=BTNode(10)\n",
        "n40=BTNode(40)\n",
        "n3=BTNode(3)\n",
        "n15=BTNode(15)\n",
        "n35=BTNode(35)\n",
        "n55=BTNode(55)\n",
        "n2=BTNode(2)\n",
        "n36=BTNode(36)\n",
        "root.left=n10\n",
        "root.right=n40\n",
        "n10.left=n3\n",
        "n10.right=n15\n",
        "n40.left=n35\n",
        "n40.right=n55\n",
        "n3.right=n2\n",
        "n35.left=n36\n",
        "#DRIVER CODE\n",
        "#Write by yourself from the given tree\n",
        "\n",
        "print(sum_of_leaves(root, 0))"
      ],
      "metadata": {
        "id": "m09QEM3jxJ2_",
        "colab": {
          "base_uri": "https://localhost:8080/"
        },
        "outputId": "36497c4b-2443-4711-fecd-effb3dfc024e"
      },
      "execution_count": null,
      "outputs": [
        {
          "output_type": "stream",
          "name": "stdout",
          "text": [
            "108\n"
          ]
        }
      ]
    },
    {
      "cell_type": "code",
      "source": [
        "def inorder_predecessor(root, x):\n",
        "  #To Do\n",
        "  p=None\n",
        "  node = root\n",
        "  while node:\n",
        "    if node.elem<x.elem:\n",
        "      p=node\n",
        "      node=node.right\n",
        "    elif node.elem>x.elem:\n",
        "      node=node.left\n",
        "    else:\n",
        "      break\n",
        "  np=node.left\n",
        "  if np:\n",
        "    while np.right:\n",
        "      np=np.right\n",
        "      p=np\n",
        "  return p\n",
        "\n",
        "\n",
        "\n",
        "#DRIVER CODE\n",
        "root = BTNode(20)\n",
        "n1 = BTNode(8)\n",
        "n2 = BTNode(22)\n",
        "n3 = BTNode(4)\n",
        "n4 = BTNode(12)\n",
        "n5 = BTNode(10)\n",
        "n6 = BTNode(14)\n",
        "\n",
        "root.left = n1\n",
        "root.right = n2\n",
        "\n",
        "n1.left = n3\n",
        "n1.right = n4\n",
        "\n",
        "n4.left = n5\n",
        "n4.right = n6\n",
        "\n",
        "print('Given Tree Inorder Traversal: ', end = ' ')\n",
        "inorder(root) #Given Tree Inorder Traversal:  4 8 10 12 14 20 22\n",
        "print()\n",
        "\n",
        "x = root\n",
        "print(f'Inorder predecessor of node {x.elem}: {inorder_predecessor(root, x).elem}') #Inorder predecessor of node 20: 14"
      ],
      "metadata": {
        "id": "mSWSNjKIxME3",
        "colab": {
          "base_uri": "https://localhost:8080/"
        },
        "outputId": "059bdc94-d709-4070-f329-3d54ea31952e"
      },
      "execution_count": null,
      "outputs": [
        {
          "output_type": "stream",
          "name": "stdout",
          "text": [
            "Given Tree Inorder Traversal:  4 8 10 12 14 20 22 \n",
            "Inorder predecessor of node 20: 14\n"
          ]
        }
      ]
    }
  ]
}