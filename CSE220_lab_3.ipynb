{
  "nbformat": 4,
  "nbformat_minor": 0,
  "metadata": {
    "colab": {
      "provenance": []
    },
    "kernelspec": {
      "name": "python3",
      "display_name": "Python 3"
    },
    "language_info": {
      "name": "python"
    }
  },
  "cells": [
    {
      "cell_type": "code",
      "execution_count": null,
      "metadata": {
        "colab": {
          "base_uri": "https://localhost:8080/"
        },
        "id": "UmIK946snHVr",
        "outputId": "090f942e-e6af-4b71-bafd-b0262584e01e"
      },
      "outputs": [
        {
          "output_type": "stream",
          "name": "stdout",
          "text": [
            "Collecting fhm-unittest\n",
            "  Downloading fhm_unittest-1.0.1-py3-none-any.whl.metadata (1.9 kB)\n",
            "Downloading fhm_unittest-1.0.1-py3-none-any.whl (2.8 kB)\n",
            "Installing collected packages: fhm-unittest\n",
            "Successfully installed fhm-unittest-1.0.1\n",
            "Collecting fuzzywuzzy\n",
            "  Downloading fuzzywuzzy-0.18.0-py2.py3-none-any.whl.metadata (4.9 kB)\n",
            "Downloading fuzzywuzzy-0.18.0-py2.py3-none-any.whl (18 kB)\n",
            "Installing collected packages: fuzzywuzzy\n",
            "Successfully installed fuzzywuzzy-0.18.0\n"
          ]
        },
        {
          "output_type": "stream",
          "name": "stderr",
          "text": [
            "/usr/local/lib/python3.10/dist-packages/fuzzywuzzy/fuzz.py:11: UserWarning: Using slow pure-python SequenceMatcher. Install python-Levenshtein to remove this warning\n",
            "  warnings.warn('Using slow pure-python SequenceMatcher. Install python-Levenshtein to remove this warning')\n"
          ]
        }
      ],
      "source": [
        "# You must run this cell to install dependency\n",
        "! pip3 install fhm-unittest\n",
        "! pip3 install fuzzywuzzy\n",
        "import fhm_unittest as unittest\n",
        "import numpy as np"
      ]
    },
    {
      "cell_type": "code",
      "source": [
        "#Assignment Part 1\n",
        "\n",
        "class Patient():\n",
        "  def __init__(self,id,name,age,bloodgroup,next=None,prev=None):\n",
        "    self.id=id\n",
        "    self.name=name\n",
        "    self.age=age\n",
        "    self.bloodgroup=bloodgroup\n",
        "    self.head=None\n",
        "    self.next=None\n",
        "    self.prev=None"
      ],
      "metadata": {
        "id": "pO9C9CLTnkoI"
      },
      "execution_count": null,
      "outputs": []
    },
    {
      "cell_type": "code",
      "source": [
        "class WRM:\n",
        "  def __init__(self):\n",
        "    self.head=Patient(None,None,None,None,None,None)\n",
        "    self.head.next=self.head\n",
        "    self.head.prev=self.head\n",
        "\n",
        "  def registerPatient(self,id, name, age, bloodgroup=None):\n",
        "    new_patient=Patient(id,name,age,bloodgroup)\n",
        "    tail=self.head.prev\n",
        "    tail.next=new_patient\n",
        "    new_patient.prev=tail\n",
        "    new_patient.next=self.head\n",
        "    self.head.prev=new_patient\n",
        "\n",
        "  def servePatient(self):\n",
        "    served_patient=self.head.next\n",
        "    self.head.next=served_patient.next\n",
        "    served_patient.next.prev=self.head\n",
        "\n",
        "  def showAllPatient(self):\n",
        "    current = self.head.next\n",
        "    while current != self.head:\n",
        "      print(f\"ID: {current.id}, Name: {current.name}, Age: {current.age}, Blood Group: {current.bloodgroup}\")\n",
        "      current = current.next\n",
        "\n",
        "  def canDoctorGoHome(self):\n",
        "    if self.head.next==self.head and self.head.prev==self.head:\n",
        "      return True\n",
        "    return False\n",
        "\n",
        "  def cancelAll(self):\n",
        "    self.head.next=self.head\n",
        "    self.head.prev=self.head\n",
        "\n",
        "  def ReverseTheLine(self):\n",
        "    current = self.head\n",
        "    while True:\n",
        "      current.next, current.prev = current.prev, current.next\n",
        "      current = current.prev\n",
        "      if current == self.head:\n",
        "        break\n"
      ],
      "metadata": {
        "id": "NtiSSfqTnn-3"
      },
      "execution_count": null,
      "outputs": []
    },
    {
      "cell_type": "code",
      "source": [
        "#Write a Tester Code in this cell\n",
        "print(\"**Welcome to Waiting Room Management System**\")\n",
        "\n",
        "wrm=WRM()\n",
        "wrm.registerPatient(1,'a',1,'A')\n",
        "wrm.registerPatient(2,'b',2,'B')\n",
        "wrm.registerPatient(3,'c',3,'C')\n",
        "wrm.showAllPatient()\n",
        "wrm.servePatient()\n",
        "wrm.showAllPatient()\n",
        "print(wrm.canDoctorGoHome())\n",
        "wrm.ReverseTheLine()\n",
        "wrm.showAllPatient()\n",
        "wrm.cancelAll()\n",
        "print(wrm.canDoctorGoHome())\n",
        "wrm.showAllPatient()"
      ],
      "metadata": {
        "colab": {
          "base_uri": "https://localhost:8080/"
        },
        "id": "mv4nMrpWntqn",
        "outputId": "c9fa7524-ef2c-4317-ab46-83ffb1e673f8"
      },
      "execution_count": null,
      "outputs": [
        {
          "output_type": "stream",
          "name": "stdout",
          "text": [
            "**Welcome to Waiting Room Management System**\n",
            "ID: 1, Name: a, Age: 1, Blood Group: A\n",
            "ID: 2, Name: b, Age: 2, Blood Group: B\n",
            "ID: 3, Name: c, Age: 3, Blood Group: C\n",
            "ID: 2, Name: b, Age: 2, Blood Group: B\n",
            "ID: 3, Name: c, Age: 3, Blood Group: C\n",
            "False\n",
            "ID: 3, Name: c, Age: 3, Blood Group: C\n",
            "ID: 2, Name: b, Age: 2, Blood Group: B\n",
            "True\n"
          ]
        }
      ]
    },
    {
      "cell_type": "code",
      "source": [
        "class Node:\n",
        "  def __init__(self,elem=None,next=None):\n",
        "    self.elem = elem\n",
        "    self.next = next\n",
        "\n",
        "class Stack:\n",
        "  def __init__(self):\n",
        "    self.__top = None\n",
        "\n",
        "  def push(self,elem):\n",
        "    nn = Node(elem,self.__top)\n",
        "    self.__top = nn\n",
        "\n",
        "  def pop(self):\n",
        "    if self.__top == None:\n",
        "      #print('Stack Underflow')\n",
        "      return None\n",
        "    e = self.__top\n",
        "    self.__top = self.__top.next\n",
        "    return e.elem\n",
        "\n",
        "  def peek(self):\n",
        "    if self.__top == None:\n",
        "      #print('Stack Underflow')\n",
        "      return None\n",
        "    return self.__top.elem\n",
        "\n",
        "  def isEmpty(self):\n",
        "    return self.__top == None"
      ],
      "metadata": {
        "id": "MeSRRR4GnwX_"
      },
      "execution_count": null,
      "outputs": []
    },
    {
      "cell_type": "code",
      "source": [
        "#You can run this driver code cell to understand the methods of Stack class\n",
        "st = Stack()\n",
        "st.push(4)\n",
        "st.push(3)\n",
        "st.push(5)\n",
        "st.push(1)\n",
        "st.push(9)\n",
        "\n",
        "print('Peeked Element: ',st.peek())\n",
        "print('Popped Element: ',st.pop())\n",
        "print('Popped Element: ',st.pop())\n",
        "print('Popped Element: ',st.pop())\n",
        "print('Peeked Element: ',st.peek())\n",
        "print('Popped Element: ',st.pop())\n",
        "print('Popped Element: ',st.pop())\n",
        "print('Peeked Element: ',st.peek())\n",
        "print('Popped Element: ',st.pop())\n",
        "print(st.isEmpty())"
      ],
      "metadata": {
        "colab": {
          "base_uri": "https://localhost:8080/"
        },
        "id": "pCUMnr-Bn08u",
        "outputId": "4c7fad4b-2f83-4c68-cec3-be5189d4a13b"
      },
      "execution_count": null,
      "outputs": [
        {
          "output_type": "stream",
          "name": "stdout",
          "text": [
            "Peeked Element:  9\n",
            "Popped Element:  9\n",
            "Popped Element:  1\n",
            "Popped Element:  5\n",
            "Peeked Element:  3\n",
            "Popped Element:  3\n",
            "Popped Element:  4\n",
            "Peeked Element:  None\n",
            "Popped Element:  None\n",
            "True\n"
          ]
        }
      ]
    },
    {
      "cell_type": "code",
      "source": [
        "def print_stack(st):\n",
        "  if st.isEmpty():\n",
        "    return\n",
        "  p = st.pop()\n",
        "  print('|',p,end=' ')\n",
        "  if p<10:\n",
        "    print(' |')\n",
        "  else:\n",
        "    print('|')\n",
        "  print('------')\n",
        "  print_stack(st)\n",
        "  st.push(p)\n",
        "\n",
        "st = Stack()\n",
        "st.push(4)\n",
        "st.push(3)\n",
        "st.push(5)\n",
        "st.push(1)\n",
        "st.push(9)\n",
        "print_stack(st)\n",
        "print('------')"
      ],
      "metadata": {
        "colab": {
          "base_uri": "https://localhost:8080/"
        },
        "id": "Nqu5694Kn35X",
        "outputId": "7c7c2056-10a5-4c1f-f3e8-18914c6ce248"
      },
      "execution_count": null,
      "outputs": [
        {
          "output_type": "stream",
          "name": "stdout",
          "text": [
            "| 9  |\n",
            "------\n",
            "| 1  |\n",
            "------\n",
            "| 5  |\n",
            "------\n",
            "| 3  |\n",
            "------\n",
            "| 4  |\n",
            "------\n",
            "------\n"
          ]
        }
      ]
    },
    {
      "cell_type": "code",
      "source": [
        "def diamond_count(stack,string):\n",
        "  c=0\n",
        "  for i in string:\n",
        "    if i=='<':\n",
        "      stack.push(i)\n",
        "    elif i=='>':\n",
        "      if stack.peek()=='<':\n",
        "        stack.pop()\n",
        "        c+=1\n",
        "  return c\n",
        "\n",
        "print('Test 01')\n",
        "stack = Stack()\n",
        "string = '<..><.<..>> '\n",
        "returned_value = diamond_count(stack,string)\n",
        "print(f'Number of Diamonds: {returned_value}') #This should print 3\n",
        "unittest.output_test(returned_value, 3)\n",
        "print('-----------------------------------------')\n",
        "\n",
        "\n",
        "print('Test 02')\n",
        "stack = Stack()\n",
        "string = '<<<..<......<<<<....>'\n",
        "returned_value = diamond_count(stack,string)\n",
        "print(f'Number of Diamonds: {returned_value}') #This should print 1\n",
        "unittest.output_test(returned_value, 1)\n",
        "print('-----------------------------------------')\n",
        "\n",
        "\n",
        "print('Test 03')\n",
        "stack = Stack()\n",
        "string = '>>><...<<..>>...>...>>>'\n",
        "returned_value = diamond_count(stack,string)\n",
        "print(f'Number of Diamonds: {returned_value}') #This should print 3\n",
        "unittest.output_test(returned_value, 3)\n",
        "print('-----------------------------------------')"
      ],
      "metadata": {
        "colab": {
          "base_uri": "https://localhost:8080/"
        },
        "id": "DBZiO54Dn6nH",
        "outputId": "13bf211f-e3b1-4df2-ee91-5fb3cadeb763"
      },
      "execution_count": null,
      "outputs": [
        {
          "output_type": "stream",
          "name": "stdout",
          "text": [
            "Test 01\n",
            "Number of Diamonds: 3\n",
            "Accepted\n",
            "-----------------------------------------\n",
            "Test 02\n",
            "Number of Diamonds: 1\n",
            "Accepted\n",
            "-----------------------------------------\n",
            "Test 03\n",
            "Number of Diamonds: 3\n",
            "Accepted\n",
            "-----------------------------------------\n"
          ]
        }
      ]
    },
    {
      "cell_type": "code",
      "source": [
        "def remove_block(stack, n):\n",
        "  if stack.isEmpty() or n==1:\n",
        "    stack.pop()\n",
        "    return\n",
        "  p = stack.pop()\n",
        "  n=n-1\n",
        "  remove_block(stack,n)\n",
        "  stack.push(p)\n",
        "\n",
        "\n",
        "\n",
        "print('Test 01')\n",
        "st = Stack()\n",
        "st.push(4)\n",
        "st.push(19)\n",
        "st.push(23)\n",
        "st.push(17)\n",
        "st.push(5)\n",
        "print('Stack:')\n",
        "print_stack(st)\n",
        "print('------')\n",
        "remove_block(st,2)\n",
        "print('After Removal')\n",
        "print_stack(st)\n",
        "print('------')\n",
        "\n",
        "print()\n",
        "print('======================================')\n",
        "print()\n",
        "\n",
        "print('Test 02')\n",
        "st = Stack()\n",
        "st.push(73)\n",
        "st.push(85)\n",
        "st.push(15)\n",
        "st.push(41)\n",
        "print('Stack:')\n",
        "print_stack(st)\n",
        "print('------')\n",
        "remove_block(st,3)\n",
        "print('After Removal')\n",
        "print_stack(st)\n",
        "print('------')\n",
        "\n",
        "print()\n",
        "print('======================================')\n",
        "print()"
      ],
      "metadata": {
        "colab": {
          "base_uri": "https://localhost:8080/"
        },
        "id": "H-g2RhLkoI-u",
        "outputId": "b5b5fd3f-b128-45b0-8a6d-15a3f31a7258"
      },
      "execution_count": null,
      "outputs": [
        {
          "output_type": "stream",
          "name": "stdout",
          "text": [
            "Test 01\n",
            "Stack:\n",
            "| 5  |\n",
            "------\n",
            "| 17 |\n",
            "------\n",
            "| 23 |\n",
            "------\n",
            "| 19 |\n",
            "------\n",
            "| 4  |\n",
            "------\n",
            "------\n",
            "After Removal\n",
            "| 5  |\n",
            "------\n",
            "| 23 |\n",
            "------\n",
            "| 19 |\n",
            "------\n",
            "| 4  |\n",
            "------\n",
            "------\n",
            "\n",
            "======================================\n",
            "\n",
            "Test 02\n",
            "Stack:\n",
            "| 41 |\n",
            "------\n",
            "| 15 |\n",
            "------\n",
            "| 85 |\n",
            "------\n",
            "| 73 |\n",
            "------\n",
            "------\n",
            "After Removal\n",
            "| 41 |\n",
            "------\n",
            "| 15 |\n",
            "------\n",
            "| 73 |\n",
            "------\n",
            "------\n",
            "\n",
            "======================================\n",
            "\n"
          ]
        }
      ]
    },
    {
      "cell_type": "code",
      "source": [
        "def conditional_reverse(stack):\n",
        "  rstack = Stack()\n",
        "  y=None\n",
        "  while not stack.isEmpty():\n",
        "    x=stack.pop()\n",
        "    if x!=y:\n",
        "      rstack.push(x)\n",
        "    y=x\n",
        "  return rstack\n",
        "\n",
        "\n",
        "print('Test 01')\n",
        "st=Stack()\n",
        "st.push(10)\n",
        "st.push(10)\n",
        "st.push(20)\n",
        "st.push(20)\n",
        "st.push(30)\n",
        "st.push(10)\n",
        "st.push(50)\n",
        "print('Stack:')\n",
        "print_stack(st)\n",
        "print('------')\n",
        "reversed_stack=conditional_reverse(st)\n",
        "print('Conditional Reversed Stack:')\n",
        "print_stack(reversed_stack) # This stack contains 50, 10, 30, 20, 10 in this order whereas top element should be 10\n",
        "print('------')"
      ],
      "metadata": {
        "colab": {
          "base_uri": "https://localhost:8080/"
        },
        "id": "0YTve2m-oOEf",
        "outputId": "93be3f44-207b-4ea7-a2c1-5cb99accb166"
      },
      "execution_count": null,
      "outputs": [
        {
          "output_type": "stream",
          "name": "stdout",
          "text": [
            "Test 01\n",
            "Stack:\n",
            "| 50 |\n",
            "------\n",
            "| 10 |\n",
            "------\n",
            "| 30 |\n",
            "------\n",
            "| 20 |\n",
            "------\n",
            "| 20 |\n",
            "------\n",
            "| 10 |\n",
            "------\n",
            "| 10 |\n",
            "------\n",
            "------\n",
            "Conditional Reversed Stack:\n",
            "| 10 |\n",
            "------\n",
            "| 20 |\n",
            "------\n",
            "| 30 |\n",
            "------\n",
            "| 10 |\n",
            "------\n",
            "| 50 |\n",
            "------\n",
            "------\n"
          ]
        }
      ]
    }
  ]
}