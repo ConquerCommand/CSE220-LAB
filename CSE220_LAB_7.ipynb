{
  "nbformat": 4,
  "nbformat_minor": 0,
  "metadata": {
    "colab": {
      "provenance": []
    },
    "kernelspec": {
      "name": "python3",
      "display_name": "Python 3"
    },
    "language_info": {
      "name": "python"
    }
  },
  "cells": [
    {
      "cell_type": "code",
      "source": [
        "#task-1\n",
        "import numpy as np\n",
        "class MinHeap():\n",
        "  def __init__(self, c):\n",
        "    self.__a=np.empty(c+1, dtype=int)\n",
        "    self.__n=0\n",
        "  def insert(self,x):\n",
        "    if self.__n>=len(self.__a) - 1:\n",
        "      print('cant insert capacity limit reacherd')\n",
        "      return\n",
        "    self.__n+=1\n",
        "    self.__a[self.__n]=x\n",
        "    self.swim(self.__n)\n",
        "  def delete(self,x):\n",
        "    for i in range(1,self.__n+1):\n",
        "      if self.__a[i]==x:\n",
        "        self.__a[i]=self.__a[self.__n]\n",
        "        self.__n-=1\n",
        "        self.sink(i)\n",
        "        return\n",
        "    print('element not found')\n",
        "  def swim(self,n):\n",
        "    p=n//2\n",
        "    if n>1 and self.__a[p]>self.__a[n]:\n",
        "      self.__a[p],self.__a[n]=self.__a[n],self.__a[p]\n",
        "      self.swim(p)\n",
        "  def sink(self,n):\n",
        "    c=2*n\n",
        "    if c>self.__n:\n",
        "      return\n",
        "    if c+1<=self.__n and self.__a[c+1]<self.__a[c]:\n",
        "      c+=1\n",
        "    if self.__a[n]>self.__a[c]:\n",
        "      self.__a[n],self.__a[c]=self.__a[c],self.__a[n]\n",
        "      self.sink(c)\n",
        "  def extractMin(self):\n",
        "    if self.__n==0:\n",
        "      print('Heap is empty')\n",
        "      return None\n",
        "    min=self.__a[1]\n",
        "    self.__a[1]=self.__a[self.__n]\n",
        "    self.__n-=1\n",
        "    self.sink(1)\n",
        "    return min\n",
        "  def sort(self):\n",
        "    s=self.__n\n",
        "    ca=np.zeros(s,dtype=int)\n",
        "    sa=np.zeros(s,dtype=int)\n",
        "    for i in range(s):\n",
        "      ca[i]=self.__a[i+1]\n",
        "    for i in range(len(ca)):\n",
        "      sa[i]=self.extractMin()\n",
        "    for i in range(len(sa)):\n",
        "      self.__a[i+1]=ca[i]\n",
        "    self.__n=s\n",
        "    return sa\n",
        "\n",
        "# Driver code of the MinHeap class\n",
        "print(\"Testing MinHeap\")\n",
        "heap = MinHeap(10)\n",
        "heap.insert(5)\n",
        "heap.insert(2)\n",
        "heap.insert(3)\n",
        "heap.insert(8)\n",
        "heap.insert(1)\n",
        "heap.insert(7)\n",
        "heap.insert(11)\n",
        "heap.insert(9)\n",
        "heap.insert(4)\n",
        "\n",
        "\n",
        "# Testing extraction of minimum\n",
        "print(\"Extracting minimum:\", heap.extractMin()) # This should print 1\n",
        "\n",
        "\n",
        "# Testing deletion of an element\n",
        "print(\"Deleting element 8\")\n",
        "heap.delete(8) # This should print 8\n",
        "\n",
        "\n",
        "# Testing sorting in ascending order\n",
        "print(\"Heap sort result:\", heap.sort()) #This should print [ 2.  3.  4.  5.  7.  9. 11.]"
      ],
      "metadata": {
        "id": "nrIeV-nc0kpv",
        "colab": {
          "base_uri": "https://localhost:8080/"
        },
        "outputId": "0cac474b-f776-4b42-f14a-6abbd9eb75eb"
      },
      "execution_count": null,
      "outputs": [
        {
          "output_type": "stream",
          "name": "stdout",
          "text": [
            "Testing MinHeap\n",
            "Extracting minimum: 1\n",
            "Deleting element 8\n",
            "Heap sort result: [ 2  3  4  5  7  9 11]\n"
          ]
        }
      ]
    },
    {
      "cell_type": "code",
      "source": [
        "#task-2\n",
        "import numpy as np\n",
        "class MaxHeap:\n",
        "  def __init__(self, c):\n",
        "    self.__a=np.empty(c+1,dtype=int)\n",
        "    self.__n=0\n",
        "  def insert(self,x):\n",
        "    if self.__n>=len(self.__a)-1:\n",
        "      print('cant insert capacity limit reacherd')\n",
        "      return\n",
        "    self.__n+=1\n",
        "    self.__a[self.__n]=x\n",
        "    self.swim(self.__n)\n",
        "  def delete(self,x):\n",
        "    for i in range(1,self.__n+1):\n",
        "      if self.__a[i]==x:\n",
        "        self.__a[i]=self.__a[self.__n]\n",
        "        self.__n-=1\n",
        "        self.sink(i)\n",
        "        return\n",
        "    print('element not found')\n",
        "  def swim(self, n):\n",
        "    p=n//2\n",
        "    if n>1 and self.__a[p]<self.__a[n]:\n",
        "      self.__a[p],self.__a[n]=self.__a[n],self.__a[p]\n",
        "      self.swim(p)\n",
        "  def sink(self, n):\n",
        "    c=2*n\n",
        "    if c>self.__n:\n",
        "      return\n",
        "    if c+1<=self.__n and self.__a[c+1]>self.__a[c]:\n",
        "      c+=1\n",
        "    if self.__a[n]<self.__a[c]:\n",
        "      self.__a[n],self.__a[c]=self.__a[c],self.__a[n]\n",
        "      self.sink(c)\n",
        "  def extractMax(self):\n",
        "    if self.__n==0:\n",
        "      print('Heap is empty')\n",
        "      return None\n",
        "    max=self.__a[1]\n",
        "    self.__a[1]=self.__a[self.__n]\n",
        "    self.__n-=1\n",
        "    self.sink(1)\n",
        "    return max\n",
        "  def sort(self):\n",
        "    s=self.__n\n",
        "    ca=np.zeros(s,dtype=int)\n",
        "    sa=np.zeros(s,dtype=int)\n",
        "    for i in range(s):\n",
        "      ca[i]=self.__a[i+1]\n",
        "    for i in range(len(ca)):\n",
        "      sa[i]=self.extractMax()\n",
        "    for i in range(len(sa)):\n",
        "      self.__a[i+1]=ca[i]\n",
        "    self.__n=s\n",
        "    return sa\n",
        "\n",
        "# Driver code of the MaxHeap class\n",
        "print(\"Testing MaxHeap\")\n",
        "heap = MaxHeap(10)\n",
        "heap.insert(5)\n",
        "heap.insert(2)\n",
        "heap.insert(3)\n",
        "heap.insert(8)\n",
        "heap.insert(1)\n",
        "heap.insert(7)\n",
        "heap.insert(11)\n",
        "heap.insert(9)\n",
        "heap.insert(4)\n",
        "\n",
        "\n",
        "# Testing extraction of maximum\n",
        "print(\"Extracting maximum:\", heap.extractMax()) # This should print 11\n",
        "\n",
        "\n",
        "# Testing deletion of an element\n",
        "print(\"Deleting element 8\")\n",
        "heap.delete(8) # This should print 8\n",
        "\n",
        "\n",
        "# Testing sorting in descending order\n",
        "print(\"Heap sort result:\", heap.sort()) # This should print [9. 7. 5. 4. 3. 2. 1.]"
      ],
      "metadata": {
        "colab": {
          "base_uri": "https://localhost:8080/"
        },
        "id": "cs2B29Rsrrvb",
        "outputId": "8cd46535-0598-4044-f07d-d7cbae3ead2b"
      },
      "execution_count": null,
      "outputs": [
        {
          "output_type": "stream",
          "name": "stdout",
          "text": [
            "Testing MaxHeap\n",
            "Extracting maximum: 11\n",
            "Deleting element 8\n",
            "Heap sort result: [9 7 5 4 3 2 1]\n"
          ]
        }
      ]
    },
    {
      "cell_type": "code",
      "source": [
        "#task-3\n",
        "import numpy as np\n",
        "def timeminimizer(tasks, m):\n",
        "  minheap=MinHeap(m)\n",
        "  for i in range(m):\n",
        "    minheap.insert(0)\n",
        "  for i in tasks:\n",
        "    mload=minheap.extractMin()+i\n",
        "    minheap.insert(mload)\n",
        "  return minheap.sort()\n",
        "\n",
        "# driver code\n",
        "tasks = np.array([2, 4, 7, 1, 6])\n",
        "m = 4\n",
        "Finalload = timeminimizer(tasks, m)\n",
        "print(\"Final machine loads:\", Finalload)"
      ],
      "metadata": {
        "id": "q-4E4ZUneZQr",
        "colab": {
          "base_uri": "https://localhost:8080/"
        },
        "outputId": "9adff451-ad01-43d0-94cd-f729772fe375"
      },
      "execution_count": null,
      "outputs": [
        {
          "output_type": "stream",
          "name": "stdout",
          "text": [
            "Final machine loads: [2 4 7 7]\n"
          ]
        }
      ]
    },
    {
      "cell_type": "code",
      "source": [
        "#task-4\n",
        "import numpy as np\n",
        "def top_largest_num(nums, k):\n",
        "  maxheap = MaxHeap(len(nums))\n",
        "  top_G = np.zeros(k, dtype=int)\n",
        "  for i in nums:\n",
        "    maxheap.insert(i)\n",
        "  for i in range(k):\n",
        "    top_G[i]=maxheap.extractMax()\n",
        "  return top_G\n",
        "\n",
        "# driver code\n",
        "nums=np.array([4, 10, 2, 8, 6, 7])\n",
        "k=3\n",
        "arrayoflargestnum = top_largest_num(nums, k)\n",
        "print(f'Top {k} largest elements: {arrayoflargestnum}')"
      ],
      "metadata": {
        "colab": {
          "base_uri": "https://localhost:8080/"
        },
        "id": "3vDPFefXnpkK",
        "outputId": "e3668feb-7109-4f38-c175-a95723d5d282"
      },
      "execution_count": null,
      "outputs": [
        {
          "output_type": "stream",
          "name": "stdout",
          "text": [
            "Top 3 largest elements: [10  8  7]\n"
          ]
        }
      ]
    }
  ]
}